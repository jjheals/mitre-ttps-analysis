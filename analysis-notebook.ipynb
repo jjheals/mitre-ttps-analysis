{
 "cells": [
  {
   "cell_type": "markdown",
   "metadata": {},
   "source": [
    "# Analysis of Similarities in Threat Actors"
   ]
  },
  {
   "cell_type": "markdown",
   "metadata": {},
   "source": [
    "## Description \n",
    "\n",
    "This notebook takes the analysis from the other notebooks (e.g. [aggregation-notebook](./aggregation-notebook.ipynb), [attack-pattern-similarities](./attack-pattern-similarities.ipynb), [malware-similarities](./malware-similarities.ipynb), etc) and combines these into a structured approach to analyzing the similarities among threat groups. See the [README](./README.md) for the methodology behind this analysis. \n",
    "\n",
    "**NOTE:** this notebook assumes that the other notebooks are completed and the files for each similarity matrix exist. "
   ]
  },
  {
   "cell_type": "markdown",
   "metadata": {},
   "source": [
    "# Similarity Analysis"
   ]
  },
  {
   "cell_type": "code",
   "execution_count": 1,
   "metadata": {},
   "outputs": [],
   "source": [
    "import numpy as np\n",
    "import pandas as pd \n",
    "import json \n",
    "from functions.functions import generate_similarity_table"
   ]
  },
  {
   "cell_type": "markdown",
   "metadata": {},
   "source": [
    "## Setup "
   ]
  },
  {
   "cell_type": "markdown",
   "metadata": {},
   "source": [
    "**Loading the necessary data**"
   ]
  },
  {
   "cell_type": "code",
   "execution_count": 2,
   "metadata": {},
   "outputs": [],
   "source": [
    "data_dir:str = 'data/analysis-outcomes/'\n",
    "actor_names:list[str] = [ a['name'] for a in json.load(open('data/jsons/intrusion-sets.json', 'r')) ]\n",
    "\n",
    "# Actor TTP similarities\n",
    "actor_ttps_similarity_matrix:np.matrix = pd.read_csv(data_dir + 'actor-attack-pattern-similarities/actor-ttp-similarity-matrix.csv', header=None).values \n",
    "with open(data_dir + 'actor-attack-pattern-similarities/matrix-labels.json', 'r') as file:\n",
    "    actor_ttps_matrix_labels:dict[str, list[str]] =  json.load(file)\n",
    "    \n",
    "# Actor malware similarities\n",
    "actor_malware_similarity_matrix:np.matrix = pd.read_csv(data_dir + 'actor-malware-similarities/actor-malware-similarity-matrix.csv', header=None).values \n",
    "with open(data_dir + 'actor-malware-similarities/matrix-labels.json', 'r') as file: \n",
    "    actor_malware_matrix_labels:list[str] = json.load(file)\n",
    "    \n",
    "# Actor tools similarities\n",
    "actor_tools_similarities_matrix:np.matrix = pd.read_csv(data_dir + 'actor-tool-similarities/actor-tool-similarity-matrix.csv', header=None).values \n",
    "with open(data_dir + 'actor-tool-similarities/matrix-labels.json', 'r') as file: \n",
    "    actor_tools_matrix_labels:list[str] = json.load(file)\n",
    "    "
   ]
  },
  {
   "cell_type": "markdown",
   "metadata": {},
   "source": [
    "**Defining hyperparameters**"
   ]
  },
  {
   "cell_type": "code",
   "execution_count": 3,
   "metadata": {},
   "outputs": [],
   "source": [
    "# NOTE: the following can be defined as fractions or probabilities but MUST add to 1 (100%)\n",
    "\n",
    "# ttp_similarity_weight := weight for the actor_ttps_similarity_matrix \n",
    "ttp_similarity_weight:float = 1/6\n",
    "\n",
    "# malware_similarity_weight := weight for the actor_malware_similarity_matrix\n",
    "malware_similarity_weight:float = 1/2\n",
    "\n",
    "# tool_similarity_weight := weight for the actor_tools_similarity_matrix\n",
    "tool_similarity_weight:float = 1/3"
   ]
  },
  {
   "cell_type": "markdown",
   "metadata": {},
   "source": [
    "**Checking that hyperparams are valid**"
   ]
  },
  {
   "cell_type": "code",
   "execution_count": 4,
   "metadata": {},
   "outputs": [],
   "source": [
    "if ttp_similarity_weight + malware_similarity_weight + tool_similarity_weight != 1: \n",
    "    raise ValueError('Hyperparameters do not add up to 1.')"
   ]
  },
  {
   "cell_type": "markdown",
   "metadata": {},
   "source": [
    "## Creating the model"
   ]
  },
  {
   "cell_type": "markdown",
   "metadata": {},
   "source": [
    "**Weighting the matrices**"
   ]
  },
  {
   "cell_type": "code",
   "execution_count": 5,
   "metadata": {},
   "outputs": [],
   "source": [
    "# TTPs similarity matrix\n",
    "actor_ttps_similarity_matrix = ttp_similarity_weight * actor_ttps_similarity_matrix\n",
    "\n",
    "# Malware similarity matrix\n",
    "actor_malware_similarity_matrix = malware_similarity_weight * actor_malware_similarity_matrix\n",
    "\n",
    "# Tools similarity matrix \n",
    "actor_tools_similarities_matrix = tool_similarity_weight * actor_tools_similarities_matrix"
   ]
  },
  {
   "cell_type": "markdown",
   "metadata": {},
   "source": [
    "**Checking that the matrices have the same shape**"
   ]
  },
  {
   "cell_type": "code",
   "execution_count": 6,
   "metadata": {},
   "outputs": [],
   "source": [
    "if not (actor_ttps_similarity_matrix.shape == actor_malware_similarity_matrix.shape == actor_tools_similarities_matrix.shape): \n",
    "    raise ValueError('Similarity matrices do not have the same shape. Check your matrices.')"
   ]
  },
  {
   "cell_type": "markdown",
   "metadata": {},
   "source": [
    "**Summing the matrices together**"
   ]
  },
  {
   "cell_type": "code",
   "execution_count": 7,
   "metadata": {},
   "outputs": [
    {
     "name": "stdout",
     "output_type": "stream",
     "text": [
      "[[1.         0.15074867 0.         ... 0.0474835  0.         0.        ]\n",
      " [0.15074867 1.         0.         ... 0.05498567 0.         0.        ]\n",
      " [0.         0.         0.5        ... 0.         0.         0.        ]\n",
      " ...\n",
      " [0.0474835  0.05498567 0.         ... 0.66666667 0.         0.        ]\n",
      " [0.         0.         0.         ... 0.         0.         0.        ]\n",
      " [0.         0.         0.         ... 0.         0.         0.5       ]]\n"
     ]
    }
   ],
   "source": [
    "summed_similarities_matrix:np.matrix = actor_ttps_similarity_matrix + actor_malware_similarity_matrix + actor_tools_similarities_matrix\n",
    "print(summed_similarities_matrix)\n",
    "\n",
    "# Save the summed similarities matrix \n",
    "np.savetxt('data/analysis-outcomes/similarity-matrix.csv', summed_similarities_matrix.astype(float), delimiter=',', fmt='%f')"
   ]
  },
  {
   "cell_type": "code",
   "execution_count": 9,
   "metadata": {},
   "outputs": [
    {
     "name": "stdout",
     "output_type": "stream",
     "text": [
      "                    Label 1               Label 2  Similarity Rating\n",
      "------------------  ------------------  ---------  -------------------\n",
      "APT-C-23            None                     0     False\n",
      "APT-C-36            TA2541                   0.3   False\n",
      "APT1                admin@338                0.29  False\n",
      "APT12               APT30                    0.11  False\n",
      "APT16               Indrik Spider            0.04  False\n",
      "APT17               Leviathan                0.16  False\n",
      "APT18               Higaisa                  0.22  False\n",
      "APT19               CopyKittens              0.67  False\n",
      "APT28               APT38                    0.21  False\n",
      "APT29               UNC2452                  1     True\n",
      "APT3                Inception                0.28  False\n",
      "APT30               TA459                    0.11  False\n",
      "APT32               Chimera                  0.36  False\n",
      "APT33               MuddyWater               0.23  False\n",
      "APT34               OilRig                   1     True\n",
      "APT37               APT19                    0.2   False\n",
      "APT38               Sandworm Team            0.34  False\n",
      "APT39               Threat Group-3390        0.28  False\n",
      "APT41               Threat Group-3390        0.46  False\n",
      "APT5                PittyTiger               0.31  False\n",
      "Ajax Security Team  Magic Hound              0.19  False\n",
      "Akira               FIN6                     0.24  False\n",
      "Andariel            Higaisa                  0.29  False\n",
      "Aoqin Dragon        Ferocious Kitten         0.07  False\n",
      "Aquatic Panda       Chimera                  0.4   False\n",
      "Axiom               Higaisa                  0.26  False\n",
      "BITTER              APT-C-36                 0.08  False\n",
      "BRONZE BUTLER       Tonto Team               0.3   False\n",
      "BackdoorDiplomacy   GALLIUM                  0.33  False\n",
      "BlackOasis          Dust Storm               0.1   False\n",
      "BlackTech           Moses Staff              0.36  False\n",
      "Blue Mockingbird    Whitefly                 0.38  False\n",
      "Bouncing Golf       None                     0     False\n",
      "CURIUM              Dark Caracal             0.07  False\n",
      "Carbanak            Thrip                    0.32  False\n",
      "Charming Kitten     Charming Kitten          0.5   True\n",
      "Charming Kitten     Charming Kitten          0.5   True\n",
      "Chimera             APT19                    0.54  False\n",
      "Cinnamon Tempest    LuminousMoth             0.34  False\n",
      "Cleaver             Thrip                    0.37  False\n",
      "Cobalt Group        Chimera                  0.5   False\n",
      "Confucius           Scattered Spider         0.37  False\n",
      "CopyKittens         APT19                    0.67  False\n",
      "CostaRicto          BlackTech                0.23  False\n",
      "Dark Caracal        CURIUM                   0.07  False\n",
      "DarkHydrus          Chimera                  0.52  False\n",
      "DarkVishnya         BlackTech                0.26  False\n",
      "Darkhotel           Sidewinder               0.08  False\n",
      "Deep Panda          ToddyCat                 0.28  False\n",
      "DragonOK            Moafee                   0.35  False\n",
      "Dragonfly           Dragonfly 2.0            0.79  False\n",
      "Dragonfly 2.0       Dragonfly                0.79  False\n",
      "Dust Storm          BlackOasis               0.1   False\n",
      "EXOTIC LILY         Wizard Spider            0.14  False\n",
      "Earth Lusca         Chimera                  0.39  False\n",
      "Elderwood           Moafee                   0.16  False\n",
      "Ember Bear          TA505                    0.09  False\n",
      "Equation            Strider                  0.04  False\n",
      "Evilnum             Inception                0.33  False\n",
      "FIN10               Frankenstein             0.38  False\n",
      "FIN13               menuPass                 0.22  False\n",
      "FIN4                Mofang                   0.09  False\n",
      "FIN5                APT39                    0.24  False\n",
      "FIN6                Cobalt Group             0.47  False\n",
      "FIN7                TA505                    0.33  False\n",
      "FIN8                Wizard Spider            0.25  False\n",
      "Ferocious Kitten    Tropic Trooper           0.37  False\n",
      "Fox Kitten          HAFNIUM                  0.38  False\n",
      "Frankenstein        WIRTE                    0.4   False\n",
      "GALLIUM             Mustang Panda            0.37  False\n",
      "GCMAN               Fox Kitten               0.04  False\n",
      "GOLD SOUTHFIELD     FIN7                     0.18  False\n",
      "Gallmaker           APT30                    0.09  False\n",
      "Gamaredon Group     ToddyCat                 0.25  False\n",
      "Gelsemium           DarkHydrus               0.33  False\n",
      "Gorgon Group        Group5                   0.52  False\n",
      "Group5              Gorgon Group             0.52  False\n",
      "HAFNIUM             Fox Kitten               0.38  False\n",
      "HEXANE              APT41                    0.24  False\n",
      "Higaisa             TA459                    0.41  False\n",
      "Honeybee            APT18                    0.21  False\n",
      "Inception           Evilnum                  0.33  False\n",
      "IndigoZebra         Moafee                   0.29  False\n",
      "Indrik Spider       Chimera                  0.45  False\n",
      "Ke3chang            Volt Typhoon             0.3   False\n",
      "Kimsuky             Stolen Pencil            0.29  False\n",
      "LAPSUS$             Whitefly                 0.35  False\n",
      "Lazarus Group       APT38                    0.28  False\n",
      "LazyScripter        Gorgon Group             0.48  False\n",
      "Leafminer           Stolen Pencil            0.29  False\n",
      "Leviathan           APT41                    0.39  False\n",
      "Lotus Blossom       None                     0     False\n",
      "LuminousMoth        Mustang Panda            0.41  False\n",
      "MONSOON             Patchwork                1     True\n",
      "Machete             Rancor                   0.08  False\n",
      "Magic Hound         Charming Kitten          0.29  True\n",
      "Malteiro            Molerats                 0.07  False\n",
      "Metador             APT18                    0.08  False\n",
      "Moafee              DragonOK                 0.35  False\n",
      "Mofang              Elderwood                0.12  False\n",
      "Molerats            Moafee                   0.2   False\n",
      "Moses Staff         BlackTech                0.36  False\n",
      "MoustachedBouncer   CopyKittens              0.04  False\n",
      "MuddyWater          FIN7                     0.24  False\n",
      "Mustang Panda       LuminousMoth             0.41  False\n",
      "Mustard Tempest     APT19                    0.37  False\n",
      "NEODYMIUM           None                     0     False\n",
      "Naikon              Deep Panda               0.25  False\n",
      "Night Dragon        PittyTiger               0.36  False\n",
      "Nomadic Octopus     DarkHydrus               0.1   False\n",
      "OilRig              APT34                    1     False\n",
      "Operation Wocao     APT41                    0.22  False\n",
      "Orangeworm          admin@338                0.25  False\n",
      "PLATINUM            Ajax Security Team       0.08  False\n",
      "POLONIUM            PittyTiger               0.09  False\n",
      "PROMETHIUM          RTM                      0.06  False\n",
      "Patchwork           MONSOON                  1     False\n",
      "PittyTiger          Night Dragon             0.36  False\n",
      "Poseidon Group      admin@338                0.07  False\n",
      "Putter Panda        TA2541                   0.05  False\n",
      "RTM                 APT30                    0.09  False\n",
      "Rancor              Higaisa                  0.3   False\n",
      "Rocke               TeamTNT                  0.09  False\n",
      "Sandworm Team       APT38                    0.34  False\n",
      "Scarlet Mimic       Ferocious Kitten         0.07  False\n",
      "Scattered Spider    Confucius                0.37  False\n",
      "Sharpshooter        Gorgon Group             0.09  False\n",
      "SideCopy            Sidewinder               0.09  False\n",
      "Sidewinder          LazyScripter             0.22  False\n",
      "Silence             WIRTE                    0.27  False\n",
      "Silent Librarian    PittyTiger               0.07  False\n",
      "SilverTerrier       APT33                    0.18  False\n",
      "Sowbug              admin@338                0.06  False\n",
      "Stealth Falcon      Frankenstein             0.08  False\n",
      "Stolen Pencil       TEMP.Veles               0.36  False\n",
      "Strider             Equation                 0.04  False\n",
      "Suckfly             PittyTiger               0.05  False\n",
      "TA2541              The White Company        0.31  False\n",
      "TA459               Higaisa                  0.41  False\n",
      "TA505               Chimera                  0.38  False\n",
      "TA551               Nomadic Octopus          0.08  False\n",
      "TEMP.Veles          Thrip                    0.37  False\n",
      "Taidoor             Machete                  0.04  False\n",
      "TeamTNT             Inception                0.23  False\n",
      "The White Company   TA2541                   0.31  False\n",
      "Threat Group-1314   Moses Staff              0.26  False\n",
      "Threat Group-3390   APT41                    0.46  False\n",
      "Thrip               TEMP.Veles               0.37  False\n",
      "ToddyCat            Chimera                  0.36  False\n",
      "Tonto Team          Earth Lusca              0.37  False\n",
      "Transparent Tribe   Gorgon Group             0.19  False\n",
      "Tropic Trooper      Ferocious Kitten         0.37  False\n",
      "Turla               OilRig                   0.29  False\n",
      "UNC2452             APT29                    1     True\n",
      "Volatile Cedar      Moses Staff              0.06  False\n",
      "Volt Typhoon        Ke3chang                 0.3   False\n",
      "WIRTE               APT19                    0.41  False\n",
      "Whitefly            Blue Mockingbird         0.38  False\n",
      "Windigo             Dust Storm               0.07  False\n",
      "Windshift           Sidewinder               0.09  False\n",
      "Winnti Group        LuminousMoth             0.24  False\n",
      "Wizard Spider       Chimera                  0.42  False\n",
      "ZIRCONIUM           Kimsuky                  0.07  False\n",
      "admin@338           Ke3chang                 0.29  False\n",
      "menuPass            Chimera                  0.39  False\n"
     ]
    }
   ],
   "source": [
    "sim_table, pretty_table = generate_similarity_table(summed_similarities_matrix, actor_names, check_if_aliases=True)\n",
    "\n",
    "\n",
    "# Convert the table to a dataframe and save it\n",
    "sim_table_df:pd.DataFrame = pd.DataFrame(sim_table, columns=['Actor 1', 'Actor 2', 'Similarity Rating', 'Is Alias'])\n",
    "sim_table_df.to_csv('data/analysis-outcomes/similarities-table.csv', index=False)"
   ]
  }
 ],
 "metadata": {
  "kernelspec": {
   "display_name": "Python 3",
   "language": "python",
   "name": "python3"
  },
  "language_info": {
   "codemirror_mode": {
    "name": "ipython",
    "version": 3
   },
   "file_extension": ".py",
   "mimetype": "text/x-python",
   "name": "python",
   "nbconvert_exporter": "python",
   "pygments_lexer": "ipython3",
   "version": "3.11.4"
  }
 },
 "nbformat": 4,
 "nbformat_minor": 2
}
