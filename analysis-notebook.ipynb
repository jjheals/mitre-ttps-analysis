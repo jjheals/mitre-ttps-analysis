{
 "cells": [
  {
   "cell_type": "markdown",
   "metadata": {},
   "source": [
    "# Analysis of Similarities in Threat Actors"
   ]
  },
  {
   "cell_type": "markdown",
   "metadata": {},
   "source": [
    "## Description \n",
    "\n",
    "This notebook takes the analysis from the other notebooks (e.g. [aggregation-notebook](./aggregation-notebook.ipynb), [attack-pattern-similarities](./attack-pattern-similarities.ipynb), [malware-similarities](./malware-similarities.ipynb), etc) and combines these into a structured approach to analyzing the similarities among threat groups. See the [README](./README.md) for the methodology behind this analysis. \n",
    "\n",
    "**NOTE:** this notebook assumes that the other notebooks are completed and the files for each similarity matrix exist. "
   ]
  },
  {
   "cell_type": "markdown",
   "metadata": {},
   "source": [
    "# Similarity Analysis"
   ]
  },
  {
   "cell_type": "code",
   "execution_count": 1,
   "metadata": {},
   "outputs": [],
   "source": [
    "import numpy as np\n",
    "import pandas as pd \n",
    "import json \n",
    "from functions.functions import generate_similarity_table"
   ]
  },
  {
   "cell_type": "markdown",
   "metadata": {},
   "source": [
    "## Setup "
   ]
  },
  {
   "cell_type": "markdown",
   "metadata": {},
   "source": [
    "**Loading the necessary data**"
   ]
  },
  {
   "cell_type": "code",
   "execution_count": 2,
   "metadata": {},
   "outputs": [],
   "source": [
    "data_dir:str = 'data/analysis-outcomes/'\n",
    "actor_names:list[str] = [ a['name'] for a in json.load(open('data/jsons/intrusion-sets.json', 'r')) ]\n",
    "\n",
    "# Actor TTP similarities\n",
    "actor_ttps_similarity_matrix:np.matrix = pd.read_csv(data_dir + 'actor-attack-pattern-similarities/actor-ttp-similarity-matrix.csv', header=None).values \n",
    "with open(data_dir + 'actor-attack-pattern-similarities/matrix-labels.json', 'r') as file:\n",
    "    actor_ttps_matrix_labels:dict[str, list[str]] =  json.load(file)\n",
    "    \n",
    "# Actor malware similarities\n",
    "actor_malware_similarity_matrix:np.matrix = pd.read_csv(data_dir + 'actor-malware-similarities/actor-malware-similarity-matrix.csv', header=None).values \n",
    "with open(data_dir + 'actor-malware-similarities/matrix-labels.json', 'r') as file: \n",
    "    actor_malware_matrix_labels:list[str] = json.load(file)\n",
    "    \n",
    "# Actor tools similarities\n",
    "actor_tools_similarities_matrix:np.matrix = pd.read_csv(data_dir + 'actor-tool-similarities/actor-tool-similarity-matrix.csv', header=None).values \n",
    "with open(data_dir + 'actor-tool-similarities/matrix-labels.json', 'r') as file: \n",
    "    actor_tools_matrix_labels:list[str] = json.load(file)\n",
    "    "
   ]
  },
  {
   "cell_type": "markdown",
   "metadata": {},
   "source": [
    "**Defining hyperparameters**"
   ]
  },
  {
   "cell_type": "code",
   "execution_count": 3,
   "metadata": {},
   "outputs": [],
   "source": [
    "# NOTE: the following can be defined as fractions or probabilities but MUST add to 1 (100%)\n",
    "\n",
    "# ttp_similarity_weight := weight for the actor_ttps_similarity_matrix \n",
    "ttp_similarity_weight:float = 1/6\n",
    "\n",
    "# malware_similarity_weight := weight for the actor_malware_similarity_matrix\n",
    "malware_similarity_weight:float = 1/2\n",
    "\n",
    "# tool_similarity_weight := weight for the actor_tools_similarity_matrix\n",
    "tool_similarity_weight:float = 1/3"
   ]
  },
  {
   "cell_type": "markdown",
   "metadata": {},
   "source": [
    "**Checking that hyperparams are valid**"
   ]
  },
  {
   "cell_type": "code",
   "execution_count": 4,
   "metadata": {},
   "outputs": [],
   "source": [
    "if ttp_similarity_weight + malware_similarity_weight + tool_similarity_weight != 1: \n",
    "    raise ValueError('Hyperparameters do not add up to 1.')"
   ]
  },
  {
   "cell_type": "markdown",
   "metadata": {},
   "source": [
    "## Creating the model"
   ]
  },
  {
   "cell_type": "markdown",
   "metadata": {},
   "source": [
    "**Weighting the matrices**"
   ]
  },
  {
   "cell_type": "code",
   "execution_count": 5,
   "metadata": {},
   "outputs": [],
   "source": [
    "# TTPs similarity matrix\n",
    "actor_ttps_similarity_matrix = ttp_similarity_weight * actor_ttps_similarity_matrix\n",
    "\n",
    "# Malware similarity matrix\n",
    "actor_malware_similarity_matrix = malware_similarity_weight * actor_malware_similarity_matrix\n",
    "\n",
    "# Tools similarity matrix \n",
    "actor_tools_similarities_matrix = tool_similarity_weight * actor_tools_similarities_matrix"
   ]
  },
  {
   "cell_type": "markdown",
   "metadata": {},
   "source": [
    "**Checking that the matrices have the same shape**"
   ]
  },
  {
   "cell_type": "code",
   "execution_count": 6,
   "metadata": {},
   "outputs": [],
   "source": [
    "if not (actor_ttps_similarity_matrix.shape == actor_malware_similarity_matrix.shape == actor_tools_similarities_matrix.shape): \n",
    "    raise ValueError('Similarity matrices do not have the same shape. Check your matrices.')"
   ]
  },
  {
   "cell_type": "markdown",
   "metadata": {},
   "source": [
    "**Summing the matrices together**"
   ]
  },
  {
   "cell_type": "code",
   "execution_count": 7,
   "metadata": {},
   "outputs": [],
   "source": [
    "summed_similarities_matrix:np.matrix = actor_ttps_similarity_matrix + actor_malware_similarity_matrix + actor_tools_similarities_matrix\n",
    "\n",
    "# Save the summed similarities matrix \n",
    "np.savetxt('data/analysis-outcomes/similarity-matrix.csv', summed_similarities_matrix.astype(float), delimiter=',', fmt='%f')"
   ]
  },
  {
   "cell_type": "code",
   "execution_count": 8,
   "metadata": {},
   "outputs": [],
   "source": [
    "sim_table, pretty_table = generate_similarity_table(summed_similarities_matrix, actor_names, check_if_aliases=True)\n",
    "\n",
    "\n",
    "# Convert the table to a dataframe and save it\n",
    "sim_table_df:pd.DataFrame = pd.DataFrame(sim_table, columns=['Actor 1', 'Actor 2', 'Similarity Rating', 'Is Alias'])\n",
    "sim_table_df.to_csv('data/analysis-outcomes/similarities-table.csv', index=False)"
   ]
  }
 ],
 "metadata": {
  "kernelspec": {
   "display_name": "Python 3",
   "language": "python",
   "name": "python3"
  },
  "language_info": {
   "codemirror_mode": {
    "name": "ipython",
    "version": 3
   },
   "file_extension": ".py",
   "mimetype": "text/x-python",
   "name": "python",
   "nbconvert_exporter": "python",
   "pygments_lexer": "ipython3",
   "version": "3.11.4"
  }
 },
 "nbformat": 4,
 "nbformat_minor": 2
}
