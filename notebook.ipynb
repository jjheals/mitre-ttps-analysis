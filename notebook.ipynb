{
 "cells": [
  {
   "cell_type": "markdown",
   "metadata": {},
   "source": [
    "## Setup"
   ]
  },
  {
   "cell_type": "code",
   "execution_count": 1,
   "metadata": {},
   "outputs": [],
   "source": [
    "import json                       # To load Att&ck data as a dict\n",
    "from tabulate import tabulate     # For printing tables\n",
    "import pandas as pd               # Data structures and maniupulation \n",
    "import os                         # Creating dirs for organizing data\n",
    "from functions.functions import * # Custom function imports"
   ]
  },
  {
   "cell_type": "code",
   "execution_count": 2,
   "metadata": {},
   "outputs": [],
   "source": [
    "# Load the enterprise attack data from JSON into memory as a dictionary \n",
    "with open('data/enterprise-attack-15.0.json', 'r') as file: \n",
    "    enterprise_attack_data:list[dict] = json.load(file)['objects']"
   ]
  },
  {
   "cell_type": "markdown",
   "metadata": {},
   "source": [
    "## Initial Analysis"
   ]
  },
  {
   "cell_type": "markdown",
   "metadata": {},
   "source": [
    "#### Familiarize with the dataset"
   ]
  },
  {
   "cell_type": "code",
   "execution_count": 3,
   "metadata": {},
   "outputs": [
    {
     "name": "stdout",
     "output_type": "stream",
     "text": [
      "Number of records: 21541\n",
      "\n",
      "Type                      Count\n",
      "----------------------  -------\n",
      "identity                      1\n",
      "x-mitre-matrix                1\n",
      "marking-definition            1\n",
      "x-mitre-tactic               14\n",
      "campaign                     28\n",
      "x-mitre-data-source          38\n",
      "tool                         86\n",
      "x-mitre-data-component      109\n",
      "intrusion-set               165\n",
      "course-of-action            284\n",
      "malware                     596\n",
      "attack-pattern              780\n",
      "relationship              19438\n"
     ]
    }
   ],
   "source": [
    "# Print details\n",
    "print(f'Number of records: {len(enterprise_attack_data)}\\n')\n",
    "\n",
    "# Get a complete list of all the types\n",
    "list_of_types:list[str] = [d['type'] for d in enterprise_attack_data]\n",
    "\n",
    "# Get a list of all the unique types \n",
    "unique_types:list[str] = list(set(list_of_types))\n",
    "    \n",
    "# Get the count for each type\n",
    "type_counts:list[list[str, int]] = [\n",
    "    [t, list_of_types.count(t)] for t in unique_types\n",
    "]\n",
    "\n",
    "# Sort the type counts in ascending order\n",
    "type_counts = sorted(type_counts, key=lambda x: x[1])\n",
    "\n",
    "# Print the types and their counts\n",
    "print(tabulate(type_counts, headers=['Type', 'Count']))\n",
    "    "
   ]
  },
  {
   "cell_type": "markdown",
   "metadata": {},
   "source": [
    "### Extracting features"
   ]
  },
  {
   "cell_type": "markdown",
   "metadata": {},
   "source": [
    "##### Matrix details"
   ]
  },
  {
   "cell_type": "code",
   "execution_count": 4,
   "metadata": {},
   "outputs": [],
   "source": [
    "# Extracting the Matrix \n",
    "mitre_matrix = filter_dict(enterprise_attack_data, 'type', 'x-mitre-matrix')[0] \n",
    "\n",
    "# Dumping the mitre matrix to json for easier reading\n",
    "with open('data/jsons/mitre-matrix.json', 'w+') as file:\n",
    "    json.dump(mitre_matrix, file, indent=4)"
   ]
  },
  {
   "cell_type": "markdown",
   "metadata": {},
   "source": [
    "##### Tactics"
   ]
  },
  {
   "cell_type": "code",
   "execution_count": 5,
   "metadata": {},
   "outputs": [
    {
     "name": "stdout",
     "output_type": "stream",
     "text": [
      "Saved 14 tactics to \"data/csvs/tactics.csv\".\n",
      "Saved 14 tactics to \"data/jsons/tactics.json\".\n"
     ]
    }
   ],
   "source": [
    "# Extract the tactics\n",
    "tactics:list[dict] = filter_dict(enterprise_attack_data, 'type', 'x-mitre-tactic')\n",
    "\n",
    "# Clean the tactics data and extract the Tactic ID (external_id), url (if available), and source (if available) from \"external_references\"\n",
    "for t in tactics: \n",
    "\n",
    "    # Remove the newlines from the description\n",
    "    t['description'] = t['description'].replace(\"\\n\", \"\")\n",
    "    \n",
    "    # Extract the object_markings_ref, which is currently a list of one string, to simply a string\n",
    "    t['object_marking_refs'] = t['object_marking_refs'][0]\n",
    "    \n",
    "    # Extract the tactic ID\n",
    "    t['tactic_id'] = t['external_references'][0]['external_id'] \n",
    "    \n",
    "    # Extract the URL if available\n",
    "    try: t['url'] = t['external_references'][0]['url']\n",
    "    except KeyError: t['url'] = None\n",
    "    \n",
    "    # Extract the source name if available \n",
    "    try: t['source_name'] = t['external_references'][0]['source_name']\n",
    "    except KeyError: t['source_name'] = None\n",
    "\n",
    "# Convert the tactics to a dataframe\n",
    "tactics_csv:str = 'data/csvs/tactics.csv'\n",
    "tactics_df:pd.DataFrame = pd.DataFrame(tactics)\n",
    "\n",
    "# Drop the 'external_references' column since it is now not needed\n",
    "tactics_df.drop('external_references', axis=1, inplace=True)\n",
    "tactics_df.to_csv(tactics_csv, index=False)\n",
    "\n",
    "# Dump the tactics JSON\n",
    "with open('data/jsons/tactics.json', 'w+') as file: \n",
    "    json.dump(tactics, file, indent=4)\n",
    "    \n",
    "# Print details\n",
    "print(f'Saved {len(tactics_df)} tactics to \"{tactics_csv}\".')\n",
    "print(f'Saved {len(tactics)} tactics to \"data/jsons/tactics.json\".')"
   ]
  },
  {
   "cell_type": "markdown",
   "metadata": {},
   "source": [
    "##### Campaigns"
   ]
  },
  {
   "cell_type": "code",
   "execution_count": 6,
   "metadata": {},
   "outputs": [
    {
     "name": "stdout",
     "output_type": "stream",
     "text": [
      "Saved 28 campaigns to \"data/jsons/campaigns.json\".\n",
      "Saved 28 objects to \"data/csvs/campaigns.csv\".\n",
      "Saved 28 sources to \"data/csvs/campaign_sources.csv\".\n"
     ]
    }
   ],
   "source": [
    "# Extract the campaigns\n",
    "campaigns:list[dict] = filter_dict(enterprise_attack_data, 'type', 'campaign')\n",
    "\n",
    "# Use handle_list_of_dict function to parse out the campaigns and sources \n",
    "campaigns_result:dict[str, list[dict]] = handle_list_of_dict(campaigns)\n",
    "\n",
    "standardized_campaigns:list[dict] = campaigns_result['dicts'] \n",
    "campaign_sources:list[dict] = campaigns_result['sources']\n",
    "\n",
    "# Dump the JSON for campaigns \n",
    "with open('data/jsons/campaigns.json', 'w+') as file:\n",
    "    json.dump(campaigns, file, indent=4)\n",
    "\n",
    "# Print details\n",
    "print(f'Saved {len(campaigns)} campaigns to \"data/jsons/campaigns.json\".')\n",
    "    \n",
    "# Create the CSV files for the campaigns and campaign sources\n",
    "create_csvs(\n",
    "    campaigns, \n",
    "    campaign_sources, \n",
    "    'data/csvs/campaigns.csv', \n",
    "    'data/csvs/campaign_sources.csv', \n",
    "    print_debug=True\n",
    ")\n"
   ]
  },
  {
   "cell_type": "markdown",
   "metadata": {},
   "source": [
    "##### Tools"
   ]
  },
  {
   "cell_type": "code",
   "execution_count": 7,
   "metadata": {},
   "outputs": [],
   "source": [
    "# Extract all the tools\n",
    "tools:list[dict] = filter_dict(enterprise_attack_data, 'type', 'tool')\n",
    "\n",
    "# Dump to JSON for easier reading\n",
    "with open('data/jsons/tools.json', 'w+') as file: \n",
    "    json.dump(tools, file, indent=4)\n"
   ]
  },
  {
   "cell_type": "code",
   "execution_count": 8,
   "metadata": {},
   "outputs": [
    {
     "name": "stdout",
     "output_type": "stream",
     "text": [
      "Saved 86 objects to \"data/csvs/tools.csv\".\n",
      "Saved 86 sources to \"data/csvs/tool_sources.csv\".\n"
     ]
    }
   ],
   "source": [
    "# Use handle_list_of_dict function to parse out the tools and sources \n",
    "tools_result:dict[str, list[dict]] = handle_list_of_dict(tools)\n",
    "\n",
    "standardized_tools:list[dict] = tools_result['dicts'] \n",
    "tool_sources:list[dict] = tools_result['sources']\n",
    "\n",
    "# Create the CSV files for the tools and tool sources\n",
    "create_csvs(\n",
    "    tools, \n",
    "    tool_sources, \n",
    "    'data/csvs/tools.csv', \n",
    "    'data/csvs/tool_sources.csv', \n",
    "    print_debug=True\n",
    ")"
   ]
  },
  {
   "cell_type": "markdown",
   "metadata": {},
   "source": [
    "##### Intrusion sets"
   ]
  },
  {
   "cell_type": "markdown",
   "metadata": {},
   "source": [
    "**NOTE:** An \"intrusion-set\" is a threat actor (MITRE's naming choice, for some reason)"
   ]
  },
  {
   "cell_type": "code",
   "execution_count": 9,
   "metadata": {},
   "outputs": [],
   "source": [
    "# Extracting the intrusion sets\n",
    "intrusion_sets:list[dict] = filter_dict(enterprise_attack_data, 'type', 'intrusion-set')\n",
    "\n",
    "# Dump JSON for easier reading \n",
    "with open('data/jsons/intrusion-sets.json', 'w+') as file:\n",
    "    json.dump(intrusion_sets, file, indent=4)"
   ]
  },
  {
   "cell_type": "code",
   "execution_count": 10,
   "metadata": {},
   "outputs": [
    {
     "name": "stdout",
     "output_type": "stream",
     "text": [
      "Saved 165 objects to \"data/csvs/intrusion_sets.csv\".\n",
      "Saved 165 sources to \"data/csvs/intrusion_set_sources.csv\".\n"
     ]
    }
   ],
   "source": [
    "# Use handle_list_of_dict function to parse out the intrusion sets and sources \n",
    "iset_results:dict[str, list[dict]] = handle_list_of_dict(intrusion_sets)\n",
    "\n",
    "standardized_isets:list[dict] = iset_results['dicts'] \n",
    "iset_sources:list[dict] = iset_results['sources']\n",
    "\n",
    "# Create the CSV files for the intrusion sets and sources\n",
    "create_csvs(\n",
    "    intrusion_sets, \n",
    "    iset_sources, \n",
    "    'data/csvs/intrusion_sets.csv', \n",
    "    'data/csvs/intrusion_set_sources.csv', \n",
    "    print_debug=True\n",
    ")"
   ]
  },
  {
   "cell_type": "markdown",
   "metadata": {},
   "source": [
    "##### Courses of action"
   ]
  },
  {
   "cell_type": "code",
   "execution_count": 11,
   "metadata": {},
   "outputs": [],
   "source": [
    "# Extract the courses of action\n",
    "courses_of_action:list[dict] = filter_dict(enterprise_attack_data, 'type', 'course-of-action')\n",
    "\n",
    "# Dump JSON for easier reading\n",
    "with open('data/jsons/courses_of_action.json', 'w+') as file:\n",
    "    json.dump(courses_of_action, file, indent=4)"
   ]
  },
  {
   "cell_type": "code",
   "execution_count": 12,
   "metadata": {},
   "outputs": [
    {
     "name": "stdout",
     "output_type": "stream",
     "text": [
      "Saved 284 objects to \"data/csvs/courses_of_action.csv\".\n",
      "Saved 284 sources to \"data/csvs/courses_of_action_sources.csv\".\n"
     ]
    }
   ],
   "source": [
    "# Use handle_list_of_dict function to parse out the courses of action and sources \n",
    "coa_result:dict[str, list[dict]] = handle_list_of_dict(courses_of_action)\n",
    "\n",
    "standardized_coa:list[dict] = coa_result['dicts'] \n",
    "coa_sources:list[dict] = coa_result['sources']\n",
    "\n",
    "# Create the CSV files for the courses of action and sources\n",
    "create_csvs(\n",
    "    courses_of_action, \n",
    "    coa_sources, \n",
    "    'data/csvs/courses_of_action.csv', \n",
    "    'data/csvs/courses_of_action_sources.csv', \n",
    "    print_debug=True\n",
    ")"
   ]
  },
  {
   "cell_type": "markdown",
   "metadata": {},
   "source": [
    "##### Malware"
   ]
  },
  {
   "cell_type": "code",
   "execution_count": 13,
   "metadata": {},
   "outputs": [],
   "source": [
    "# Extract the malware \n",
    "malware:list[dict] = filter_dict(enterprise_attack_data, 'type', 'malware')\n",
    "\n",
    "# Dump JSON for easier reading \n",
    "with open('data/jsons/malware.json', 'w+') as file:\n",
    "    json.dump(malware, file, indent=4)"
   ]
  },
  {
   "cell_type": "code",
   "execution_count": 14,
   "metadata": {},
   "outputs": [
    {
     "name": "stdout",
     "output_type": "stream",
     "text": [
      "Saved 596 objects to \"data/csvs/malware.csv\".\n",
      "Saved 596 sources to \"data/csvs/malware_sources.csv\".\n"
     ]
    }
   ],
   "source": [
    "# Use handle_list_of_dict function to parse out the malware and sources \n",
    "malware_result:dict[str, list[dict]] = handle_list_of_dict(malware)\n",
    "\n",
    "standardized_malware:list[dict] = malware_result['dicts'] \n",
    "malware_sources:list[dict] = malware_result['sources']\n",
    "\n",
    "# Create the CSV files for the malware and sources\n",
    "create_csvs(\n",
    "    malware, \n",
    "    malware_sources, \n",
    "    'data/csvs/malware.csv', \n",
    "    'data/csvs/malware_sources.csv', \n",
    "    print_debug=True\n",
    ")"
   ]
  },
  {
   "cell_type": "markdown",
   "metadata": {},
   "source": [
    "##### Attack patterns"
   ]
  },
  {
   "cell_type": "code",
   "execution_count": 15,
   "metadata": {},
   "outputs": [],
   "source": [
    "# Extract all the attack patterns \n",
    "attack_patterns:list[dict] = filter_dict(enterprise_attack_data, 'type', 'attack-pattern')\n",
    "\n",
    "# Dump JSON for easier reading \n",
    "with open('data/jsons/attack-patterns.json', 'w+') as file: \n",
    "    json.dump(attack_patterns, file, indent=4)\n"
   ]
  },
  {
   "cell_type": "code",
   "execution_count": 16,
   "metadata": {},
   "outputs": [
    {
     "name": "stdout",
     "output_type": "stream",
     "text": [
      "Saved 780 objects to \"data/csvs/attack_patterns.csv\".\n",
      "Saved 780 sources to \"data/csvs/attack_pattern_sources.csv\".\n"
     ]
    }
   ],
   "source": [
    "# Use handle_list_of_dict function to parse out the attack patterns and sources \n",
    "attack_pattern_results:dict[str, list[dict]] = handle_list_of_dict(attack_patterns)\n",
    "\n",
    "standardized_attack_patterns:list[dict] = attack_pattern_results['dicts'] \n",
    "attack_pattern_sources:list[dict] = attack_pattern_results['sources']\n",
    "\n",
    "# Create the CSV files for the attack patterns and sources\n",
    "create_csvs(\n",
    "    attack_patterns, \n",
    "    attack_pattern_sources, \n",
    "    'data/csvs/attack_patterns.csv', \n",
    "    'data/csvs/attack_pattern_sources.csv', \n",
    "    print_debug=True\n",
    ")"
   ]
  },
  {
   "cell_type": "markdown",
   "metadata": {},
   "source": [
    "##### Relationships"
   ]
  },
  {
   "cell_type": "code",
   "execution_count": 17,
   "metadata": {},
   "outputs": [],
   "source": [
    "# Extract all the relationships\n",
    "relationships:list[dict] = filter_dict(enterprise_attack_data, 'type', 'relationship')\n",
    "\n",
    "# Dump JSON for easier reading \n",
    "with open('data/jsons/relationships.json', 'w+') as file: \n",
    "    json.dump(relationships, file, indent=4)"
   ]
  },
  {
   "cell_type": "code",
   "execution_count": 18,
   "metadata": {},
   "outputs": [
    {
     "name": "stdout",
     "output_type": "stream",
     "text": [
      "Saved 19438 objects to \"data/csvs/relationships.csv\".\n",
      "Saved 19438 sources to \"data/csvs/relationship_sources.csv\".\n"
     ]
    }
   ],
   "source": [
    "# Use handle_list_of_dict function to parse out the relationships and sources \n",
    "relationship_results:dict[str, list[dict]] = handle_list_of_dict(relationships)\n",
    "\n",
    "standardized_relationships:list[dict] = relationship_results['dicts'] \n",
    "relationship_sources:list[dict] = relationship_results['sources']\n",
    "\n",
    "# Create the CSV files for the relationship and sources\n",
    "create_csvs(\n",
    "    relationships, \n",
    "    relationship_sources, \n",
    "    'data/csvs/relationships.csv', \n",
    "    'data/csvs/relationship_sources.csv', \n",
    "    print_debug=True\n",
    ")"
   ]
  },
  {
   "cell_type": "markdown",
   "metadata": {},
   "source": [
    "# Extracting & Analyzing Relationships"
   ]
  },
  {
   "cell_type": "code",
   "execution_count": 19,
   "metadata": {},
   "outputs": [],
   "source": [
    "# Iterate over all the actors in intrustion_sets and extract each type of relationship for each actor, and save to their own JSON files\n",
    "# for easier analysis and organization. \n",
    "for actor in intrusion_sets: \n",
    "    \n",
    "    # -- RELATIONSHIPS -- # \n",
    "    these_relationships:list[dict] = get_all_relationships_for_actor(relationships, intrusion_sets, actor['name'])\n",
    "    \n",
    "    # Dump JSON\n",
    "    if not os.path.exists(f'data/jsons/{actor[\"name\"].replace(\" \", \"-\")}/'):  # Check that the dir for this actor exists\n",
    "        os.mkdir(f'data/jsons/{actor[\"name\"].replace(\" \", \"-\")}/')            # Create the dir if needed\n",
    "        \n",
    "    with open(f'data/jsons/{actor[\"name\"].replace(\" \", \"-\")}/relationships.json', 'w+') as file:\n",
    "        json.dump(these_relationships, file, indent=4)\n",
    "        \n",
    "    # -- TOOLS -- #\n",
    "    tool_matches:list[dict] = get_entities_for_actor(tools, 'tool', actor, 'Tool')\n",
    "    \n",
    "    # Dump JSON\n",
    "    with open(f'data/jsons/{actor[\"name\"].replace(\" \", \"-\")}/tools.json', 'w+') as file: \n",
    "        json.dump(tool_matches, file, indent=4)\n",
    "\n",
    "    # -- MALWARE -- #\n",
    "    malware_matches:list[dict] = get_entities_for_actor(malware, 'malware', actor, 'Malware')\n",
    "        \n",
    "    # Dump JSON \n",
    "    with open(f'data/jsons/{actor[\"name\"].replace(\" \", \"-\")}/malware.json', 'w+') as file: \n",
    "        json.dump(malware_matches, file, indent=4)\n",
    "        \n",
    "    # -- ATTACK PATTERNS -- #\n",
    "    ap_matches:list[dict] = get_entities_for_actor(attack_patterns, 'attack-pattern', actor, 'Attack Patterns')\n",
    "    \n",
    "    # Dump JSON \n",
    "    with open(f'data/jsons/{actor[\"name\"].replace(\" \", \"-\")}/attack-patterns.json', 'w+') as file: \n",
    "        json.dump(ap_matches, file, indent=4)\n",
    "        \n",
    "    # -- CAMPAIGNS -- # \n",
    "    campaign_matches:list[dict] = get_entities_for_actor(campaigns, 'campaign', actor, 'Campaign')\n",
    "    \n",
    "    # Dump JSON \n",
    "    with open(f'data/jsons/{actor[\"name\"].replace(\" \", \"-\")}/campaigns.json', 'w+') as file: \n",
    "        json.dump(campaign_matches, file, indent=4)\n",
    "        "
   ]
  }
 ],
 "metadata": {
  "kernelspec": {
   "display_name": "Python 3",
   "language": "python",
   "name": "python3"
  },
  "language_info": {
   "codemirror_mode": {
    "name": "ipython",
    "version": 3
   },
   "file_extension": ".py",
   "mimetype": "text/x-python",
   "name": "python",
   "nbconvert_exporter": "python",
   "pygments_lexer": "ipython3",
   "version": "3.11.4"
  }
 },
 "nbformat": 4,
 "nbformat_minor": 2
}
